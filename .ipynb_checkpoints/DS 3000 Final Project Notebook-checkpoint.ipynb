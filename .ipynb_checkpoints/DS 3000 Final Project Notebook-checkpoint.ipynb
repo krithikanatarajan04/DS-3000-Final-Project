{
 "cells": [
  {
   "cell_type": "markdown",
   "id": "3dd68645",
   "metadata": {},
   "source": [
    "# Analyzing Correlation between Chemical Dumpings and Red Tide Blooms"
   ]
  },
  {
   "cell_type": "code",
   "execution_count": 6,
   "id": "b5df6053",
   "metadata": {},
   "outputs": [],
   "source": [
    "#imports\n",
    "import pandas as pd\n",
    "import matplotlib.pyplot as plt\n",
    "import altair as alt"
   ]
  },
  {
   "cell_type": "code",
   "execution_count": 7,
   "id": "8bb7000b",
   "metadata": {},
   "outputs": [],
   "source": [
    "algae_bloom = pd.read_csv(\"algae bloom.csv\")"
   ]
  },
  {
   "cell_type": "markdown",
   "id": "e2a8b206",
   "metadata": {},
   "source": [
    "This dataset contains latitude and longitude of the sample measurement, the date and time the sample was collected, the depth at which the sample was taken at in the water and the counts of the red tide in that sample area."
   ]
  },
  {
   "cell_type": "code",
   "execution_count": 8,
   "id": "ddcb38e5",
   "metadata": {},
   "outputs": [],
   "source": [
    "algae_bloom.head()"
   ]
  },
  {
   "cell_type": "code",
   "execution_count": 9,
   "id": "1f2ab9b6",
   "metadata": {},
   "outputs": [],
   "source": [
    "print(\"Dimensions:\", algae_bloom.shape)"
   ]
  },
  {
   "cell_type": "code",
   "execution_count": 10,
   "id": "ced5aa93",
   "metadata": {},
   "outputs": [],
   "source": [
    "print(algae_bloom.dtypes)"
   ]
  },
  {
   "cell_type": "code",
   "execution_count": 11,
   "id": "43ab68f3",
   "metadata": {},
   "outputs": [],
   "source": [
    "missing_values_count = algae_bloom.isnull().sum()\n",
    "\n",
    "# Display the count of missing values\n",
    "print(missing_values_count)"
   ]
  },
  {
   "cell_type": "code",
   "execution_count": 12,
   "id": "8e2e18a4",
   "metadata": {},
   "outputs": [],
   "source": [
    "#check for wrong negative values\n",
    "for column in algae_bloom.select_dtypes(include=['float64', 'int64']).columns:\n",
    "    negative_count = (algae_bloom[column] < 0).sum()\n",
    "    if negative_count > 0:\n",
    "        print(f\"{column}: {negative_count}\")"
   ]
  },
  {
   "cell_type": "code",
   "execution_count": 13,
   "id": "48f80488",
   "metadata": {},
   "outputs": [],
   "source": [
    "#sub pandas dataset with all the counts greater than zero \n",
    "more_than_zero_ab = algae_bloom[algae_bloom['COUNT_'] > 0 ]"
   ]
  },
  {
   "cell_type": "code",
   "execution_count": 14,
   "id": "d5dc1bba",
   "metadata": {},
   "outputs": [],
   "source": [
    "more_than_zero_ab.shape"
   ]
  },
  {
   "cell_type": "code",
   "execution_count": 15,
   "id": "3c5b6192",
   "metadata": {},
   "outputs": [],
   "source": [
    "more_than_zero_ab.head()"
   ]
  },
  {
   "cell_type": "code",
   "execution_count": null,
   "id": "260ada43",
   "metadata": {},
   "outputs": [],
   "source": []
  }
 ],
 "metadata": {
  "kernelspec": {
   "display_name": "Python 3 (ipykernel)",
   "language": "python",
   "name": "python3"
  },
  "language_info": {
   "codemirror_mode": {
    "name": "ipython",
    "version": 3
   },
   "file_extension": ".py",
   "mimetype": "text/x-python",
   "name": "python",
   "nbconvert_exporter": "python",
   "pygments_lexer": "ipython3",
   "version": "3.9.18"
  }
 },
 "nbformat": 4,
 "nbformat_minor": 5
}
