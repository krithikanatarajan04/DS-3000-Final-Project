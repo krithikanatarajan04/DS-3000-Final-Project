{
 "cells": [
  {
   "cell_type": "markdown",
   "id": "3dd68645",
   "metadata": {},
   "source": [
    "# Analyzing Correlation between Chemical Dumpings and Red Tide Blooms"
   ]
  },
  {
   "cell_type": "code",
   "execution_count": 1,
   "id": "b5df6053",
   "metadata": {},
   "outputs": [
    {
     "name": "stdout",
     "output_type": "stream",
     "text": [
      "Intel MKL WARNING: Support of Intel(R) Streaming SIMD Extensions 4.2 (Intel(R) SSE4.2) enabled only processors has been deprecated. Intel oneAPI Math Kernel Library 2025.0 will require Intel(R) Advanced Vector Extensions (Intel(R) AVX) instructions.\n",
      "Intel MKL WARNING: Support of Intel(R) Streaming SIMD Extensions 4.2 (Intel(R) SSE4.2) enabled only processors has been deprecated. Intel oneAPI Math Kernel Library 2025.0 will require Intel(R) Advanced Vector Extensions (Intel(R) AVX) instructions.\n"
     ]
    },
    {
     "name": "stderr",
     "output_type": "stream",
     "text": [
      "/Users/krithikanatarajan/opt/anaconda3/lib/python3.9/site-packages/pandas/core/arrays/masked.py:60: UserWarning: Pandas requires version '1.3.6' or newer of 'bottleneck' (version '1.3.5' currently installed).\n",
      "  from pandas.core import (\n"
     ]
    }
   ],
   "source": [
    "#imports\n",
    "import pandas as pd\n",
    "import matplotlib.pyplot as plt\n",
    "import altair as alt"
   ]
  },
  {
   "cell_type": "code",
   "execution_count": 2,
   "id": "8bb7000b",
   "metadata": {},
   "outputs": [],
   "source": [
    "algae_bloom = pd.read_csv(\"algae bloom.csv\")"
   ]
  },
  {
   "cell_type": "markdown",
   "id": "e2a8b206",
   "metadata": {},
   "source": [
    "This dataset contains latitude and longitude of the sample measurement, the date and time the sample was collected, the depth at which the sample was taken at in the water and the counts of the red tide in that sample area."
   ]
  },
  {
   "cell_type": "code",
   "execution_count": 3,
   "id": "ddcb38e5",
   "metadata": {},
   "outputs": [
    {
     "data": {
      "text/html": [
       "<div>\n",
       "<style scoped>\n",
       "    .dataframe tbody tr th:only-of-type {\n",
       "        vertical-align: middle;\n",
       "    }\n",
       "\n",
       "    .dataframe tbody tr th {\n",
       "        vertical-align: top;\n",
       "    }\n",
       "\n",
       "    .dataframe thead th {\n",
       "        text-align: right;\n",
       "    }\n",
       "</style>\n",
       "<table border=\"1\" class=\"dataframe\">\n",
       "  <thead>\n",
       "    <tr style=\"text-align: right;\">\n",
       "      <th></th>\n",
       "      <th>X</th>\n",
       "      <th>Y</th>\n",
       "      <th>OBJECTID</th>\n",
       "      <th>SAMPLE_DATE</th>\n",
       "      <th>TIME</th>\n",
       "      <th>TIMEZONE</th>\n",
       "      <th>DEPTH</th>\n",
       "      <th>LOCATION</th>\n",
       "      <th>LATITUDE</th>\n",
       "      <th>LONGITUDE</th>\n",
       "      <th>NAME</th>\n",
       "      <th>COUNT_</th>\n",
       "      <th>HAB_ID</th>\n",
       "    </tr>\n",
       "  </thead>\n",
       "  <tbody>\n",
       "    <tr>\n",
       "      <th>0</th>\n",
       "      <td>-81.42690</td>\n",
       "      <td>30.70120</td>\n",
       "      <td>11318691</td>\n",
       "      <td>2015/02/04 00:00:00+00</td>\n",
       "      <td>14:51:00</td>\n",
       "      <td>GMT</td>\n",
       "      <td>0.3</td>\n",
       "      <td>St. Marys Inlet</td>\n",
       "      <td>30.70120</td>\n",
       "      <td>-81.42690</td>\n",
       "      <td>Karenia brevis</td>\n",
       "      <td>0</td>\n",
       "      <td>HABW150205-015</td>\n",
       "    </tr>\n",
       "    <tr>\n",
       "      <th>1</th>\n",
       "      <td>-82.57790</td>\n",
       "      <td>27.33160</td>\n",
       "      <td>11318692</td>\n",
       "      <td>2015/02/05 00:00:00+00</td>\n",
       "      <td>21:00:00</td>\n",
       "      <td>GMT</td>\n",
       "      <td>0.5</td>\n",
       "      <td>Bay Dock (Sarasota Bay)</td>\n",
       "      <td>27.33160</td>\n",
       "      <td>-82.57790</td>\n",
       "      <td>Karenia brevis</td>\n",
       "      <td>0</td>\n",
       "      <td>HABW150205-016</td>\n",
       "    </tr>\n",
       "    <tr>\n",
       "      <th>2</th>\n",
       "      <td>-82.57938</td>\n",
       "      <td>27.33375</td>\n",
       "      <td>11318693</td>\n",
       "      <td>2015/02/05 00:00:00+00</td>\n",
       "      <td>21:05:00</td>\n",
       "      <td>GMT</td>\n",
       "      <td>0.5</td>\n",
       "      <td>New Pass Dock (Sarasota Bay)</td>\n",
       "      <td>27.33375</td>\n",
       "      <td>-82.57938</td>\n",
       "      <td>Karenia brevis</td>\n",
       "      <td>0</td>\n",
       "      <td>HABW150205-017</td>\n",
       "    </tr>\n",
       "    <tr>\n",
       "      <th>3</th>\n",
       "      <td>-81.34444</td>\n",
       "      <td>30.11688</td>\n",
       "      <td>11318694</td>\n",
       "      <td>2015/02/04 00:00:00+00</td>\n",
       "      <td>14:18:00</td>\n",
       "      <td>GMT</td>\n",
       "      <td>0.5</td>\n",
       "      <td>North Ponte Vedra</td>\n",
       "      <td>30.11688</td>\n",
       "      <td>-81.34444</td>\n",
       "      <td>Karenia brevis</td>\n",
       "      <td>0</td>\n",
       "      <td>HABW150206-001</td>\n",
       "    </tr>\n",
       "    <tr>\n",
       "      <th>4</th>\n",
       "      <td>-81.32263</td>\n",
       "      <td>30.02262</td>\n",
       "      <td>11318695</td>\n",
       "      <td>2015/02/04 00:00:00+00</td>\n",
       "      <td>14:32:00</td>\n",
       "      <td>GMT</td>\n",
       "      <td>0.5</td>\n",
       "      <td>South Ponte Vedra</td>\n",
       "      <td>30.02262</td>\n",
       "      <td>-81.32263</td>\n",
       "      <td>Karenia brevis</td>\n",
       "      <td>0</td>\n",
       "      <td>HABW150206-002</td>\n",
       "    </tr>\n",
       "  </tbody>\n",
       "</table>\n",
       "</div>"
      ],
      "text/plain": [
       "          X         Y  OBJECTID             SAMPLE_DATE      TIME TIMEZONE  \\\n",
       "0 -81.42690  30.70120  11318691  2015/02/04 00:00:00+00  14:51:00      GMT   \n",
       "1 -82.57790  27.33160  11318692  2015/02/05 00:00:00+00  21:00:00      GMT   \n",
       "2 -82.57938  27.33375  11318693  2015/02/05 00:00:00+00  21:05:00      GMT   \n",
       "3 -81.34444  30.11688  11318694  2015/02/04 00:00:00+00  14:18:00      GMT   \n",
       "4 -81.32263  30.02262  11318695  2015/02/04 00:00:00+00  14:32:00      GMT   \n",
       "\n",
       "   DEPTH                        LOCATION  LATITUDE  LONGITUDE            NAME  \\\n",
       "0    0.3                 St. Marys Inlet  30.70120  -81.42690  Karenia brevis   \n",
       "1    0.5       Bay Dock (Sarasota Bay)    27.33160  -82.57790  Karenia brevis   \n",
       "2    0.5  New Pass Dock (Sarasota Bay)    27.33375  -82.57938  Karenia brevis   \n",
       "3    0.5              North Ponte Vedra   30.11688  -81.34444  Karenia brevis   \n",
       "4    0.5              South Ponte Vedra   30.02262  -81.32263  Karenia brevis   \n",
       "\n",
       "   COUNT_          HAB_ID  \n",
       "0       0  HABW150205-015  \n",
       "1       0  HABW150205-016  \n",
       "2       0  HABW150205-017  \n",
       "3       0  HABW150206-001  \n",
       "4       0  HABW150206-002  "
      ]
     },
     "execution_count": 3,
     "metadata": {},
     "output_type": "execute_result"
    }
   ],
   "source": [
    "algae_bloom.head()"
   ]
  },
  {
   "cell_type": "code",
   "execution_count": 4,
   "id": "1f2ab9b6",
   "metadata": {},
   "outputs": [
    {
     "name": "stdout",
     "output_type": "stream",
     "text": [
      "Dimensions: (87711, 13)\n"
     ]
    }
   ],
   "source": [
    "print(\"Dimensions:\", algae_bloom.shape)"
   ]
  },
  {
   "cell_type": "code",
   "execution_count": 5,
   "id": "ced5aa93",
   "metadata": {},
   "outputs": [
    {
     "name": "stdout",
     "output_type": "stream",
     "text": [
      "X              float64\n",
      "Y              float64\n",
      "OBJECTID         int64\n",
      "SAMPLE_DATE     object\n",
      "TIME            object\n",
      "TIMEZONE        object\n",
      "DEPTH          float64\n",
      "LOCATION        object\n",
      "LATITUDE       float64\n",
      "LONGITUDE      float64\n",
      "NAME            object\n",
      "COUNT_           int64\n",
      "HAB_ID          object\n",
      "dtype: object\n"
     ]
    }
   ],
   "source": [
    "print(algae_bloom.dtypes)"
   ]
  },
  {
   "cell_type": "code",
   "execution_count": 6,
   "id": "43ab68f3",
   "metadata": {},
   "outputs": [
    {
     "name": "stdout",
     "output_type": "stream",
     "text": [
      "X                 0\n",
      "Y                 0\n",
      "OBJECTID          0\n",
      "SAMPLE_DATE       0\n",
      "TIME           8868\n",
      "TIMEZONE       3845\n",
      "DEPTH           209\n",
      "LOCATION         19\n",
      "LATITUDE          0\n",
      "LONGITUDE         0\n",
      "NAME              0\n",
      "COUNT_            0\n",
      "HAB_ID            0\n",
      "dtype: int64\n"
     ]
    }
   ],
   "source": [
    "missing_values_count = algae_bloom.isnull().sum()\n",
    "\n",
    "# Display the count of missing values\n",
    "print(missing_values_count)"
   ]
  },
  {
   "cell_type": "code",
   "execution_count": null,
   "id": "b76ba1c6",
   "metadata": {},
   "outputs": [],
   "source": [
    "# remove time, location"
   ]
  },
  {
   "cell_type": "code",
   "execution_count": null,
   "id": "a42d49c2",
   "metadata": {},
   "outputs": [],
   "source": [
    "# impute mode of the depth"
   ]
  },
  {
   "cell_type": "code",
   "execution_count": 7,
   "id": "8e2e18a4",
   "metadata": {},
   "outputs": [
    {
     "name": "stdout",
     "output_type": "stream",
     "text": [
      "X: 87711\n",
      "LONGITUDE: 87711\n"
     ]
    }
   ],
   "source": [
    "#check for wrong negative values\n",
    "for column in algae_bloom.select_dtypes(include=['float64', 'int64']).columns:\n",
    "    negative_count = (algae_bloom[column] < 0).sum()\n",
    "    if negative_count > 0:\n",
    "        print(f\"{column}: {negative_count}\")"
   ]
  },
  {
   "cell_type": "code",
   "execution_count": 8,
   "id": "48f80488",
   "metadata": {},
   "outputs": [],
   "source": [
    "#sub pandas dataset with all the counts greater than zero \n",
    "more_than_zero_ab = algae_bloom[algae_bloom['COUNT_'] > 0 ]"
   ]
  },
  {
   "cell_type": "code",
   "execution_count": 9,
   "id": "d5dc1bba",
   "metadata": {},
   "outputs": [
    {
     "data": {
      "text/plain": [
       "(16765, 13)"
      ]
     },
     "execution_count": 9,
     "metadata": {},
     "output_type": "execute_result"
    }
   ],
   "source": [
    "more_than_zero_ab.shape"
   ]
  },
  {
   "cell_type": "code",
   "execution_count": 10,
   "id": "3c5b6192",
   "metadata": {},
   "outputs": [
    {
     "data": {
      "text/html": [
       "<div>\n",
       "<style scoped>\n",
       "    .dataframe tbody tr th:only-of-type {\n",
       "        vertical-align: middle;\n",
       "    }\n",
       "\n",
       "    .dataframe tbody tr th {\n",
       "        vertical-align: top;\n",
       "    }\n",
       "\n",
       "    .dataframe thead th {\n",
       "        text-align: right;\n",
       "    }\n",
       "</style>\n",
       "<table border=\"1\" class=\"dataframe\">\n",
       "  <thead>\n",
       "    <tr style=\"text-align: right;\">\n",
       "      <th></th>\n",
       "      <th>X</th>\n",
       "      <th>Y</th>\n",
       "      <th>OBJECTID</th>\n",
       "      <th>SAMPLE_DATE</th>\n",
       "      <th>TIME</th>\n",
       "      <th>TIMEZONE</th>\n",
       "      <th>DEPTH</th>\n",
       "      <th>LOCATION</th>\n",
       "      <th>LATITUDE</th>\n",
       "      <th>LONGITUDE</th>\n",
       "      <th>NAME</th>\n",
       "      <th>COUNT_</th>\n",
       "      <th>HAB_ID</th>\n",
       "    </tr>\n",
       "  </thead>\n",
       "  <tbody>\n",
       "    <tr>\n",
       "      <th>146</th>\n",
       "      <td>-80.04781</td>\n",
       "      <td>26.245483</td>\n",
       "      <td>11318837</td>\n",
       "      <td>2015/01/07 00:00:00+00</td>\n",
       "      <td>16:00:00</td>\n",
       "      <td>GMT</td>\n",
       "      <td>0.5</td>\n",
       "      <td>Hillsboro Inlet; 2.2 mi SE of</td>\n",
       "      <td>26.245483</td>\n",
       "      <td>-80.04781</td>\n",
       "      <td>Karenia brevis</td>\n",
       "      <td>333</td>\n",
       "      <td>HABW150108-009</td>\n",
       "    </tr>\n",
       "    <tr>\n",
       "      <th>398</th>\n",
       "      <td>-81.32263</td>\n",
       "      <td>30.022620</td>\n",
       "      <td>11319089</td>\n",
       "      <td>2015/01/07 00:00:00+00</td>\n",
       "      <td>14:55:00</td>\n",
       "      <td>GMT</td>\n",
       "      <td>0.5</td>\n",
       "      <td>South Ponte Vedra</td>\n",
       "      <td>30.022620</td>\n",
       "      <td>-81.32263</td>\n",
       "      <td>Karenia brevis</td>\n",
       "      <td>3000</td>\n",
       "      <td>HABW150109-004</td>\n",
       "    </tr>\n",
       "    <tr>\n",
       "      <th>399</th>\n",
       "      <td>-81.29897</td>\n",
       "      <td>29.937800</td>\n",
       "      <td>11319090</td>\n",
       "      <td>2015/01/07 00:00:00+00</td>\n",
       "      <td>15:07:00</td>\n",
       "      <td>GMT</td>\n",
       "      <td>0.5</td>\n",
       "      <td>Vilano Beach</td>\n",
       "      <td>29.937800</td>\n",
       "      <td>-81.29897</td>\n",
       "      <td>Karenia brevis</td>\n",
       "      <td>667</td>\n",
       "      <td>HABW150109-005</td>\n",
       "    </tr>\n",
       "    <tr>\n",
       "      <th>400</th>\n",
       "      <td>-81.26473</td>\n",
       "      <td>29.851380</td>\n",
       "      <td>11319091</td>\n",
       "      <td>2015/01/07 00:00:00+00</td>\n",
       "      <td>15:35:00</td>\n",
       "      <td>GMT</td>\n",
       "      <td>0.5</td>\n",
       "      <td>St. Augustine Beach</td>\n",
       "      <td>29.851380</td>\n",
       "      <td>-81.26473</td>\n",
       "      <td>Karenia brevis</td>\n",
       "      <td>1333</td>\n",
       "      <td>HABW150109-006</td>\n",
       "    </tr>\n",
       "    <tr>\n",
       "      <th>402</th>\n",
       "      <td>-81.21073</td>\n",
       "      <td>29.666280</td>\n",
       "      <td>11319093</td>\n",
       "      <td>2015/01/07 00:00:00+00</td>\n",
       "      <td>16:18:00</td>\n",
       "      <td>GMT</td>\n",
       "      <td>0.5</td>\n",
       "      <td>Marineland Beach</td>\n",
       "      <td>29.666280</td>\n",
       "      <td>-81.21073</td>\n",
       "      <td>Karenia brevis</td>\n",
       "      <td>333</td>\n",
       "      <td>HABW150109-008</td>\n",
       "    </tr>\n",
       "  </tbody>\n",
       "</table>\n",
       "</div>"
      ],
      "text/plain": [
       "            X          Y  OBJECTID             SAMPLE_DATE      TIME TIMEZONE  \\\n",
       "146 -80.04781  26.245483  11318837  2015/01/07 00:00:00+00  16:00:00      GMT   \n",
       "398 -81.32263  30.022620  11319089  2015/01/07 00:00:00+00  14:55:00      GMT   \n",
       "399 -81.29897  29.937800  11319090  2015/01/07 00:00:00+00  15:07:00      GMT   \n",
       "400 -81.26473  29.851380  11319091  2015/01/07 00:00:00+00  15:35:00      GMT   \n",
       "402 -81.21073  29.666280  11319093  2015/01/07 00:00:00+00  16:18:00      GMT   \n",
       "\n",
       "     DEPTH                       LOCATION   LATITUDE  LONGITUDE  \\\n",
       "146    0.5  Hillsboro Inlet; 2.2 mi SE of  26.245483  -80.04781   \n",
       "398    0.5             South Ponte Vedra   30.022620  -81.32263   \n",
       "399    0.5                  Vilano Beach   29.937800  -81.29897   \n",
       "400    0.5           St. Augustine Beach   29.851380  -81.26473   \n",
       "402    0.5             Marineland Beach    29.666280  -81.21073   \n",
       "\n",
       "               NAME  COUNT_          HAB_ID  \n",
       "146  Karenia brevis     333  HABW150108-009  \n",
       "398  Karenia brevis    3000  HABW150109-004  \n",
       "399  Karenia brevis     667  HABW150109-005  \n",
       "400  Karenia brevis    1333  HABW150109-006  \n",
       "402  Karenia brevis     333  HABW150109-008  "
      ]
     },
     "execution_count": 10,
     "metadata": {},
     "output_type": "execute_result"
    }
   ],
   "source": [
    "more_than_zero_ab.head()"
   ]
  },
  {
   "cell_type": "code",
   "execution_count": null,
   "id": "260ada43",
   "metadata": {},
   "outputs": [],
   "source": [
    "# print out distinct values\n",
    "# impute timezone "
   ]
  },
  {
   "cell_type": "code",
   "execution_count": 17,
   "id": "2aa9fef5",
   "metadata": {},
   "outputs": [
    {
     "name": "stdout",
     "output_type": "stream",
     "text": [
      "[-81.4269   -82.5779   -82.57938  ... -80.83624  -81.518617 -81.541   ]\n",
      "[30.7012  27.3316  27.33375 ... 28.94745 24.66775 24.62965]\n",
      "[11318691 11318692 11318693 ... 11406399 11406400 11406401]\n",
      "['2015/02/04 00:00:00+00' '2015/02/05 00:00:00+00'\n",
      " '2015/02/09 00:00:00+00' ... '2024/02/01 00:00:00+00'\n",
      " '2024/02/02 00:00:00+00' '2024/01/28 00:00:00+00']\n",
      "['14:51:00' '21:00:00' '21:05:00' ... '04:10:00' '01:13:00' '23:59:00']\n",
      "['GMT' 'EST' nan 'EDT' 'CDT' 'CST']\n",
      "[3.000e-01 5.000e-01 1.400e+00 1.000e+00 2.300e+00 1.500e+00 2.000e-01\n",
      " 4.000e-01 5.000e+00 6.000e-01 1.920e+01 2.350e+01 2.260e+01 1.770e+01\n",
      " 1.890e+01 2.320e+01 2.010e+01 1.530e+01 1.790e+01 2.170e+01 2.160e+01\n",
      " 1.860e+01 1.420e+01 1.450e+01 1.540e+01 1.520e+01 1.300e+00 9.000e-01\n",
      " 2.200e+00 1.600e+00 1.000e-01 1.100e+00 1.200e+00 2.400e+00 2.500e+00\n",
      " 1.040e+01 1.980e+01 1.800e+01 5.900e+00 9.500e+00 1.060e+01 8.700e+00\n",
      " 1.010e+01 9.800e+00 8.600e+00 6.700e+00 1.070e+01 7.000e-01 9.100e+00\n",
      " 6.400e+00 1.820e+01 2.070e+01 2.800e+00 9.700e+00 1.950e+01 9.200e+00\n",
      " 8.500e+00 6.800e+00 9.000e+00 9.400e+00 1.620e+01 1.930e+01 3.000e+00\n",
      " 1.050e+01 1.030e+01 2.270e+01 1.810e+01 1.940e+01 2.340e+01 2.020e+01\n",
      " 1.560e+01 1.720e+01 2.120e+01 2.130e+01 1.830e+01 6.900e+00 1.300e+01\n",
      " 1.570e+01 1.000e+01 8.000e-01 6.500e+00 3.900e+00 3.700e+00 2.000e+00\n",
      " 4.800e+00 4.900e+00 1.900e+00 2.600e+00 4.100e+00 3.800e+00 7.000e+00\n",
      " 9.600e+00 9.900e+00 1.700e+00 1.550e+01 1.490e+01 1.510e+01 2.050e+01\n",
      " 1.900e+01 2.330e+01 1.610e+01 1.710e+01 2.190e+01 2.100e+01 6.000e+00\n",
      " 1.650e+01 1.800e+00 3.100e+00 4.600e+00       nan 1.160e+01 7.600e+00\n",
      " 4.500e+00 2.560e+01 9.300e+00 1.850e+01 1.470e+01 1.730e+01 1.100e+01\n",
      " 8.200e+00 1.430e+01 2.700e+01 4.000e+00 7.800e+00 2.200e+01 2.900e+00\n",
      " 1.210e+01 2.850e+01 3.610e+01 4.200e+01 3.650e+01 2.900e+01 2.060e+01\n",
      " 4.120e+01 1.670e+01 3.340e+01 2.420e+01 7.400e+00 1.480e+01 7.700e+00\n",
      " 1.350e+01 3.230e+01 3.570e+01 3.690e+01 1.370e+01 1.460e+01 1.680e+01\n",
      " 1.740e+01 2.440e+01 3.810e+01 3.720e+01 3.320e+01 3.020e+01 2.740e+01\n",
      " 5.800e+00 8.100e+00 1.020e+01 6.600e+00 1.880e+01 1.640e+01 3.110e+01\n",
      " 7.300e+00 3.500e+00 5.500e+00 7.200e+00 1.390e+01 6.100e+00 1.110e+01\n",
      " 2.500e+01 7.100e+00 1.130e+01 1.260e+01 1.220e+01 1.320e+01 5.600e+00\n",
      " 1.360e+01 1.410e+01 1.280e+01 2.090e+01 3.680e+01 1.840e+01 4.180e+01\n",
      " 3.580e+01 2.870e+01 2.590e+01 1.080e+01 2.030e+01 4.070e+01 3.250e+01\n",
      " 2.860e+01 4.200e+00 8.400e+00 8.900e+00 2.100e+00 1.200e+01 4.300e+01\n",
      " 4.500e+01 6.300e+01 1.120e+01 3.200e+00 4.400e+00 3.600e+00 5.200e+00\n",
      " 5.700e+00 4.700e+00 7.900e+00 2.700e+00 2.110e+01 1.440e+01 2.880e+01\n",
      " 2.960e+01 4.130e+01 1.660e+01 3.400e+00 8.800e+00 1.270e+01 2.550e+01\n",
      " 8.000e+00 1.600e+01 6.200e+00 2.720e+01 5.300e+00 2.910e+01 3.280e+01\n",
      " 2.540e+01 2.150e+01 3.620e+01 4.210e+01 3.700e+01 2.040e+01 2.980e+01\n",
      " 4.140e+01 3.330e+01 2.520e+01 1.090e+01 2.000e+01 4.230e+01 3.740e+01\n",
      " 3.000e+01 1.400e+01 5.100e+00 1.290e+02 3.200e+01 3.400e+01 1.700e+01\n",
      " 5.000e+01 1.170e+01 2.080e+01 2.830e+01 4.170e+01 2.890e+01 4.100e+01\n",
      " 2.530e+01 4.300e+00 1.380e+01 1.500e+01 8.300e+00 1.190e+01 2.840e+01\n",
      " 2.930e+01 2.950e+01 4.090e+01 3.310e+01 2.400e+01 2.140e+01 2.600e+01\n",
      " 1.760e+01 1.140e+01 3.300e+00 3.040e+01 6.300e+00 2.630e+01 4.160e+01\n",
      " 4.830e+01 5.400e+00 2.580e+01 3.470e+01 3.130e+01 2.230e+01 3.640e+01\n",
      " 3.710e+01 4.110e+01 1.230e+01 2.570e+01 2.180e+01 3.290e+01 2.430e+01\n",
      " 7.500e+00 4.190e+01 0.000e+00 3.300e+01 1.970e+01 1.630e+01 3.270e+01\n",
      " 3.450e+01 2.800e+01 1.780e+01 3.590e+01 3.260e+01 2.490e+01 3.880e+01\n",
      " 4.370e+01 3.830e+01 3.010e+01 2.990e+01 3.440e+01 2.750e+01 2.300e+01\n",
      " 3.500e+01 1.000e+02 4.040e+01 3.210e+01 1.240e+01 2.810e+01 1.750e+01\n",
      " 3.510e+01 3.560e+01 2.760e+01 2.210e+01 4.270e+01 2.250e+01 1.870e+01\n",
      " 4.150e+01 1.990e+01 4.080e+01 5.490e+01 3.480e+01 1.910e+01 3.350e+01\n",
      " 3.630e+01 3.670e+01 2.510e+01 3.520e+01 3.220e+01 2.940e+01 1.250e+01\n",
      " 3.090e+01 2.220e+01 2.650e+01 3.150e+01 3.100e+01 1.180e+01 2.620e+01\n",
      " 1.150e+01 3.800e+01 5.800e+01 4.950e+01 6.100e+01 5.550e+01 6.650e+01\n",
      " 6.750e+01 4.550e+01 3.900e+01 1.310e+01 7.100e+01 4.700e+01 4.000e+01\n",
      " 3.190e+01 6.000e+01 3.490e+01 3.460e+01 2.680e+01 3.240e+01 3.140e+01\n",
      " 2.240e+01 2.410e+01 4.260e+01 2.970e+01 2.310e+01 3.050e+01 1.590e+01\n",
      " 3.600e+01 1.690e+01 3.390e+01 3.540e+01 3.530e+01 2.920e+01 2.820e+01\n",
      " 3.180e+01 2.380e+01 3.780e+01 2.450e+01 2.710e+01 3.060e+01 4.680e+01\n",
      " 5.300e+01 4.490e+01 4.570e+01 5.100e+01 4.870e+01 6.130e+01 2.670e+01\n",
      " 3.380e+01 3.550e+01 1.960e+01 2.730e+01 2.480e+01 1.340e+01 1.580e+01\n",
      " 2.780e+01 3.840e+01 3.660e+01 2.280e+01 3.960e+01 2.660e+01 3.850e+01\n",
      " 4.730e+01 4.050e+01 3.910e+01 3.430e+01 5.500e+01 1.100e+02 1.620e+02\n",
      " 2.070e+02 1.900e+02 6.000e+02 4.800e+01 8.000e+01 2.000e+02 3.990e+01\n",
      " 4.410e+01 4.600e+01 2.470e+01 4.540e+01 3.750e+01 3.120e+01 3.770e+01\n",
      " 2.360e+01 3.940e+01 3.980e+01 2.290e+01 4.400e+01 3.820e+01 3.950e+01\n",
      " 2.390e+01 1.330e+01 1.290e+01 4.320e+01 4.330e+01 3.030e+01 3.890e+01\n",
      " 2.770e+01 3.170e+01 4.250e+01 4.660e+01 4.470e+01 2.460e+01 3.790e+01\n",
      " 2.370e+01 4.590e+01 4.480e+01 3.920e+01 3.420e+01 4.060e+01 4.220e+01\n",
      " 6.670e+01 1.192e+02 2.079e+02 5.530e+01 6.980e+02]\n",
      "['St. Marys Inlet' 'Bay Dock (Sarasota Bay)  '\n",
      " 'New Pass Dock (Sarasota Bay)  ' ... 'Bethune Beach'\n",
      " 'Cudjoe Key; W of (Bow Channel)' 'Jamaica Lane; canal E of']\n",
      "[30.7012  27.3316  27.33375 ... 28.94745 24.66775 24.62965]\n",
      "[-81.4269   -82.5779   -82.57938  ... -80.83624  -81.518617 -81.541   ]\n",
      "['Karenia brevis']\n",
      "[      0     333    3000 ... 2130000 1850000 3140000]\n",
      "['HABW150205-015' 'HABW150205-016' 'HABW150205-017' ... 'HABW240131-020'\n",
      " 'HABW240131-021' 'HABW240131-022']\n"
     ]
    }
   ],
   "source": [
    "# print out distinct values\n",
    "column_list = algae_bloom.columns.values.tolist()\n",
    "for col in column_list:\n",
    "    print(algae_bloom[col].unique())"
   ]
  },
  {
   "cell_type": "code",
   "execution_count": null,
   "id": "864a29ca",
   "metadata": {},
   "outputs": [],
   "source": []
  },
  {
   "cell_type": "code",
   "execution_count": null,
   "id": "f3b4e6dd",
   "metadata": {},
   "outputs": [],
   "source": []
  }
 ],
 "metadata": {
  "kernelspec": {
   "display_name": "Python 3 (ipykernel)",
   "language": "python",
   "name": "python3"
  },
  "language_info": {
   "codemirror_mode": {
    "name": "ipython",
    "version": 3
   },
   "file_extension": ".py",
   "mimetype": "text/x-python",
   "name": "python",
   "nbconvert_exporter": "python",
   "pygments_lexer": "ipython3",
   "version": "3.9.18"
  }
 },
 "nbformat": 4,
 "nbformat_minor": 5
}
