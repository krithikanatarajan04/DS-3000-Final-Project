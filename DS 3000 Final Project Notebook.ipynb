{
 "cells": [
  {
   "cell_type": "markdown",
   "id": "3dd68645",
   "metadata": {},
   "source": [
    "# Analyzing Correlation between Chemical Dumpings and Red Tide Blooms"
   ]
  },
  {
   "cell_type": "code",
   "execution_count": 1,
   "id": "b5df6053",
   "metadata": {},
   "outputs": [
    {
     "name": "stdout",
     "output_type": "stream",
     "text": [
      "Intel MKL WARNING: Support of Intel(R) Streaming SIMD Extensions 4.2 (Intel(R) SSE4.2) enabled only processors has been deprecated. Intel oneAPI Math Kernel Library 2025.0 will require Intel(R) Advanced Vector Extensions (Intel(R) AVX) instructions.\n",
      "Intel MKL WARNING: Support of Intel(R) Streaming SIMD Extensions 4.2 (Intel(R) SSE4.2) enabled only processors has been deprecated. Intel oneAPI Math Kernel Library 2025.0 will require Intel(R) Advanced Vector Extensions (Intel(R) AVX) instructions.\n"
     ]
    },
    {
     "name": "stderr",
     "output_type": "stream",
     "text": [
      "/Users/krithikanatarajan/opt/anaconda3/lib/python3.9/site-packages/pandas/core/arrays/masked.py:60: UserWarning: Pandas requires version '1.3.6' or newer of 'bottleneck' (version '1.3.5' currently installed).\n",
      "  from pandas.core import (\n"
     ]
    }
   ],
   "source": [
    "#imports\n",
    "import pandas as pd\n",
    "import matplotlib.pyplot as plt"
   ]
  },
  {
   "cell_type": "code",
   "execution_count": 4,
   "id": "8bb7000b",
   "metadata": {},
   "outputs": [],
   "source": [
    "algae_bloom = pd.read_csv(\"algae bloom.csv\")"
   ]
  },
  {
   "cell_type": "markdown",
   "id": "e2a8b206",
   "metadata": {},
   "source": [
    "This dataset contains latitude and longitude of the sample measurement, the date and time the sample was collected, the depth at which the sample was taken at in the water and the counts of the red tide in that sample area."
   ]
  },
  {
   "cell_type": "code",
   "execution_count": 5,
   "id": "ddcb38e5",
   "metadata": {},
   "outputs": [
    {
     "data": {
      "text/html": [
       "<div>\n",
       "<style scoped>\n",
       "    .dataframe tbody tr th:only-of-type {\n",
       "        vertical-align: middle;\n",
       "    }\n",
       "\n",
       "    .dataframe tbody tr th {\n",
       "        vertical-align: top;\n",
       "    }\n",
       "\n",
       "    .dataframe thead th {\n",
       "        text-align: right;\n",
       "    }\n",
       "</style>\n",
       "<table border=\"1\" class=\"dataframe\">\n",
       "  <thead>\n",
       "    <tr style=\"text-align: right;\">\n",
       "      <th></th>\n",
       "      <th>X</th>\n",
       "      <th>Y</th>\n",
       "      <th>OBJECTID</th>\n",
       "      <th>SAMPLE_DATE</th>\n",
       "      <th>TIME</th>\n",
       "      <th>TIMEZONE</th>\n",
       "      <th>DEPTH</th>\n",
       "      <th>LOCATION</th>\n",
       "      <th>LATITUDE</th>\n",
       "      <th>LONGITUDE</th>\n",
       "      <th>NAME</th>\n",
       "      <th>COUNT_</th>\n",
       "      <th>HAB_ID</th>\n",
       "    </tr>\n",
       "  </thead>\n",
       "  <tbody>\n",
       "    <tr>\n",
       "      <th>0</th>\n",
       "      <td>-81.42690</td>\n",
       "      <td>30.70120</td>\n",
       "      <td>11318691</td>\n",
       "      <td>2015/02/04 00:00:00+00</td>\n",
       "      <td>14:51:00</td>\n",
       "      <td>GMT</td>\n",
       "      <td>0.3</td>\n",
       "      <td>St. Marys Inlet</td>\n",
       "      <td>30.70120</td>\n",
       "      <td>-81.42690</td>\n",
       "      <td>Karenia brevis</td>\n",
       "      <td>0</td>\n",
       "      <td>HABW150205-015</td>\n",
       "    </tr>\n",
       "    <tr>\n",
       "      <th>1</th>\n",
       "      <td>-82.57790</td>\n",
       "      <td>27.33160</td>\n",
       "      <td>11318692</td>\n",
       "      <td>2015/02/05 00:00:00+00</td>\n",
       "      <td>21:00:00</td>\n",
       "      <td>GMT</td>\n",
       "      <td>0.5</td>\n",
       "      <td>Bay Dock (Sarasota Bay)</td>\n",
       "      <td>27.33160</td>\n",
       "      <td>-82.57790</td>\n",
       "      <td>Karenia brevis</td>\n",
       "      <td>0</td>\n",
       "      <td>HABW150205-016</td>\n",
       "    </tr>\n",
       "    <tr>\n",
       "      <th>2</th>\n",
       "      <td>-82.57938</td>\n",
       "      <td>27.33375</td>\n",
       "      <td>11318693</td>\n",
       "      <td>2015/02/05 00:00:00+00</td>\n",
       "      <td>21:05:00</td>\n",
       "      <td>GMT</td>\n",
       "      <td>0.5</td>\n",
       "      <td>New Pass Dock (Sarasota Bay)</td>\n",
       "      <td>27.33375</td>\n",
       "      <td>-82.57938</td>\n",
       "      <td>Karenia brevis</td>\n",
       "      <td>0</td>\n",
       "      <td>HABW150205-017</td>\n",
       "    </tr>\n",
       "    <tr>\n",
       "      <th>3</th>\n",
       "      <td>-81.34444</td>\n",
       "      <td>30.11688</td>\n",
       "      <td>11318694</td>\n",
       "      <td>2015/02/04 00:00:00+00</td>\n",
       "      <td>14:18:00</td>\n",
       "      <td>GMT</td>\n",
       "      <td>0.5</td>\n",
       "      <td>North Ponte Vedra</td>\n",
       "      <td>30.11688</td>\n",
       "      <td>-81.34444</td>\n",
       "      <td>Karenia brevis</td>\n",
       "      <td>0</td>\n",
       "      <td>HABW150206-001</td>\n",
       "    </tr>\n",
       "    <tr>\n",
       "      <th>4</th>\n",
       "      <td>-81.32263</td>\n",
       "      <td>30.02262</td>\n",
       "      <td>11318695</td>\n",
       "      <td>2015/02/04 00:00:00+00</td>\n",
       "      <td>14:32:00</td>\n",
       "      <td>GMT</td>\n",
       "      <td>0.5</td>\n",
       "      <td>South Ponte Vedra</td>\n",
       "      <td>30.02262</td>\n",
       "      <td>-81.32263</td>\n",
       "      <td>Karenia brevis</td>\n",
       "      <td>0</td>\n",
       "      <td>HABW150206-002</td>\n",
       "    </tr>\n",
       "  </tbody>\n",
       "</table>\n",
       "</div>"
      ],
      "text/plain": [
       "          X         Y  OBJECTID             SAMPLE_DATE      TIME TIMEZONE  \\\n",
       "0 -81.42690  30.70120  11318691  2015/02/04 00:00:00+00  14:51:00      GMT   \n",
       "1 -82.57790  27.33160  11318692  2015/02/05 00:00:00+00  21:00:00      GMT   \n",
       "2 -82.57938  27.33375  11318693  2015/02/05 00:00:00+00  21:05:00      GMT   \n",
       "3 -81.34444  30.11688  11318694  2015/02/04 00:00:00+00  14:18:00      GMT   \n",
       "4 -81.32263  30.02262  11318695  2015/02/04 00:00:00+00  14:32:00      GMT   \n",
       "\n",
       "   DEPTH                        LOCATION  LATITUDE  LONGITUDE            NAME  \\\n",
       "0    0.3                 St. Marys Inlet  30.70120  -81.42690  Karenia brevis   \n",
       "1    0.5       Bay Dock (Sarasota Bay)    27.33160  -82.57790  Karenia brevis   \n",
       "2    0.5  New Pass Dock (Sarasota Bay)    27.33375  -82.57938  Karenia brevis   \n",
       "3    0.5              North Ponte Vedra   30.11688  -81.34444  Karenia brevis   \n",
       "4    0.5              South Ponte Vedra   30.02262  -81.32263  Karenia brevis   \n",
       "\n",
       "   COUNT_          HAB_ID  \n",
       "0       0  HABW150205-015  \n",
       "1       0  HABW150205-016  \n",
       "2       0  HABW150205-017  \n",
       "3       0  HABW150206-001  \n",
       "4       0  HABW150206-002  "
      ]
     },
     "execution_count": 5,
     "metadata": {},
     "output_type": "execute_result"
    }
   ],
   "source": [
    "algae_bloom.head()"
   ]
  },
  {
   "cell_type": "code",
   "execution_count": 6,
   "id": "1f2ab9b6",
   "metadata": {},
   "outputs": [
    {
     "name": "stdout",
     "output_type": "stream",
     "text": [
      "Dimensions: (87711, 13)\n"
     ]
    }
   ],
   "source": [
    "print(\"Dimensions:\", algae_bloom.shape)"
   ]
  },
  {
   "cell_type": "code",
   "execution_count": 7,
   "id": "ced5aa93",
   "metadata": {},
   "outputs": [
    {
     "name": "stdout",
     "output_type": "stream",
     "text": [
      "X              float64\n",
      "Y              float64\n",
      "OBJECTID         int64\n",
      "SAMPLE_DATE     object\n",
      "TIME            object\n",
      "TIMEZONE        object\n",
      "DEPTH          float64\n",
      "LOCATION        object\n",
      "LATITUDE       float64\n",
      "LONGITUDE      float64\n",
      "NAME            object\n",
      "COUNT_           int64\n",
      "HAB_ID          object\n",
      "dtype: object\n"
     ]
    }
   ],
   "source": [
    "print(algae_bloom.dtypes)"
   ]
  },
  {
   "cell_type": "code",
   "execution_count": 8,
   "id": "43ab68f3",
   "metadata": {},
   "outputs": [
    {
     "name": "stdout",
     "output_type": "stream",
     "text": [
      "X                 0\n",
      "Y                 0\n",
      "OBJECTID          0\n",
      "SAMPLE_DATE       0\n",
      "TIME           8868\n",
      "TIMEZONE       3845\n",
      "DEPTH           209\n",
      "LOCATION         19\n",
      "LATITUDE          0\n",
      "LONGITUDE         0\n",
      "NAME              0\n",
      "COUNT_            0\n",
      "HAB_ID            0\n",
      "dtype: int64\n"
     ]
    }
   ],
   "source": [
    "missing_values_count = algae_bloom.isnull().sum()\n",
    "\n",
    "# Display the count of missing values\n",
    "print(missing_values_count)"
   ]
  },
  {
   "cell_type": "code",
   "execution_count": 9,
   "id": "8e2e18a4",
   "metadata": {},
   "outputs": [
    {
     "name": "stdout",
     "output_type": "stream",
     "text": [
      "X: 87711\n",
      "LONGITUDE: 87711\n"
     ]
    }
   ],
   "source": [
    "#check for wrong negative values\n",
    "for column in algae_bloom.select_dtypes(include=['float64', 'int64']).columns:\n",
    "    negative_count = (algae_bloom[column] < 0).sum()\n",
    "    if negative_count > 0:\n",
    "        print(f\"{column}: {negative_count}\")"
   ]
  },
  {
   "cell_type": "code",
   "execution_count": null,
   "id": "48f80488",
   "metadata": {},
   "outputs": [],
   "source": []
  }
 ],
 "metadata": {
  "kernelspec": {
   "display_name": "Python 3 (ipykernel)",
   "language": "python",
   "name": "python3"
  },
  "language_info": {
   "codemirror_mode": {
    "name": "ipython",
    "version": 3
   },
   "file_extension": ".py",
   "mimetype": "text/x-python",
   "name": "python",
   "nbconvert_exporter": "python",
   "pygments_lexer": "ipython3",
   "version": "3.9.18"
  }
 },
 "nbformat": 4,
 "nbformat_minor": 5
}
